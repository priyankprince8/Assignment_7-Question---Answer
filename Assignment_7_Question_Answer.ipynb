{
  "nbformat": 4,
  "nbformat_minor": 0,
  "metadata": {
    "colab": {
      "provenance": []
    },
    "kernelspec": {
      "name": "python3",
      "display_name": "Python 3"
    },
    "language_info": {
      "name": "python"
    }
  },
  "cells": [
    {
      "cell_type": "code",
      "execution_count": 2,
      "metadata": {
        "id": "pQhibK37zu9N"
      },
      "outputs": [],
      "source": [
        "#Question 1\n",
        "def is_isomorphic(s, t):\n",
        "    if len(s) != len(t):\n",
        "        return False\n",
        "\n",
        "    char_map_s = {}\n",
        "    char_map_t = {}\n",
        "\n",
        "    for i, c in enumerate(s):\n",
        "        if c not in char_map_s:\n",
        "            char_map_s[c] = t[i]\n",
        "        elif char_map_s[c] != t[i]:\n",
        "            return False\n",
        "\n",
        "    for i, c in enumerate(t):\n",
        "        if c not in char_map_t:\n",
        "            char_map_t[c] = s[i]\n",
        "        elif char_map_t[c] != s[i]:\n",
        "            return False\n",
        "\n",
        "    return True\n"
      ]
    },
    {
      "cell_type": "code",
      "source": [
        "s = \"paper\"\n",
        "t = \"title\"\n",
        "print(is_isomorphic(s, t))\n",
        "\n",
        "s = \"egg\"\n",
        "t = \"add\"\n",
        "print(is_isomorphic(s, t))\n"
      ],
      "metadata": {
        "colab": {
          "base_uri": "https://localhost:8080/"
        },
        "id": "SJSGiE3F0Ap-",
        "outputId": "f84bbfae-8d0f-4ce1-894e-66d3d0745023"
      },
      "execution_count": 4,
      "outputs": [
        {
          "output_type": "stream",
          "name": "stdout",
          "text": [
            "True\n",
            "True\n"
          ]
        }
      ]
    },
    {
      "cell_type": "code",
      "source": [
        "#Question 2\n",
        "def strobogrammatic(num):\n",
        "    left = 0\n",
        "    right = len(num) - 1\n",
        "\n",
        "    while left <= right:\n",
        "        if (num[left], num[right]) not in [('0', '0'), ('1', '1'), ('6', '9'), ('8', '8'), ('9', '6')]:\n",
        "            return False\n",
        "        left += 1\n",
        "        right -= 1\n",
        "\n",
        "    return True\n"
      ],
      "metadata": {
        "id": "f-E00A_80HiX"
      },
      "execution_count": 10,
      "outputs": []
    },
    {
      "cell_type": "code",
      "source": [
        "num = \"69\"\n",
        "print(strobogrammatic(num))\n",
        "\n"
      ],
      "metadata": {
        "colab": {
          "base_uri": "https://localhost:8080/"
        },
        "id": "tndCRaqD1PS4",
        "outputId": "a301aa0c-fd58-43c6-88b2-2c907bf19455"
      },
      "execution_count": 11,
      "outputs": [
        {
          "output_type": "stream",
          "name": "stdout",
          "text": [
            "True\n"
          ]
        }
      ]
    },
    {
      "cell_type": "code",
      "source": [
        "#Question 3\n",
        "def addStrings(num1, num2):\n",
        "    p1 = len(num1) - 1\n",
        "    p2 = len(num2) - 1\n",
        "    carry = 0\n",
        "    result = \"\"\n",
        "\n",
        "    while p1 >= 0 or p2 >= 0 or carry:\n",
        "        if p1 >= 0:\n",
        "            carry += int(num1[p1])\n",
        "            p1 -= 1\n",
        "        if p2 >= 0:\n",
        "            carry += int(num2[p2])\n",
        "            p2 -= 1\n",
        "\n",
        "        result = str(carry % 10) + result\n",
        "        carry //= 10\n",
        "\n",
        "    return result\n"
      ],
      "metadata": {
        "id": "7N65sdRt1Svf"
      },
      "execution_count": 12,
      "outputs": []
    },
    {
      "cell_type": "code",
      "source": [
        "num1 = \"11\"\n",
        "num2 = \"123\"\n",
        "print(addStrings(num1, num2))\n",
        "\n",
        "num1 = \"999\"\n",
        "num2 = \"1\"\n",
        "print(addStrings(num1, num2))\n"
      ],
      "metadata": {
        "colab": {
          "base_uri": "https://localhost:8080/"
        },
        "id": "J4qds24n2yN2",
        "outputId": "04129df2-0281-48c1-ccdc-ade8b0f0a30e"
      },
      "execution_count": 15,
      "outputs": [
        {
          "output_type": "stream",
          "name": "stdout",
          "text": [
            "134\n",
            "1000\n"
          ]
        }
      ]
    },
    {
      "cell_type": "code",
      "source": [
        "#Question 4\n",
        "def reverseWords(s):\n",
        "    words = s.split()\n",
        "    reversed_words = [word[::-1] for word in words]\n",
        "    reversed_sentence = \" \".join(reversed_words)\n",
        "    return reversed_sentence\n"
      ],
      "metadata": {
        "id": "X5yJzx2D27mA"
      },
      "execution_count": 16,
      "outputs": []
    },
    {
      "cell_type": "code",
      "source": [
        "s = \"Let's code and have fun\"\n",
        "print(reverseWords(s))\n",
        "\n",
        "\n",
        "s = \"Let's take LeetCode contest\"\n",
        "print(reverseWords(s))"
      ],
      "metadata": {
        "colab": {
          "base_uri": "https://localhost:8080/"
        },
        "id": "v4qmKD2E3fnw",
        "outputId": "18eff4e1-966f-452b-a8ad-2c00746fe538"
      },
      "execution_count": 19,
      "outputs": [
        {
          "output_type": "stream",
          "name": "stdout",
          "text": [
            "s'teL edoc dna evah nuf\n",
            "s'teL ekat edoCteeL tsetnoc\n"
          ]
        }
      ]
    },
    {
      "cell_type": "code",
      "source": [
        "#Question 5\n",
        "def reverseStr(s, k):\n",
        "    result = []\n",
        "    n = len(s)\n",
        "    for i in range(0, n, 2*k):\n",
        "        chunk = s[i:i+k]\n",
        "        reversed_chunk = chunk[::-1]\n",
        "        result.append(reversed_chunk + s[i+k:i+2*k])\n",
        "    return ''.join(result)\n"
      ],
      "metadata": {
        "id": "bUiUvC463jDY"
      },
      "execution_count": 20,
      "outputs": []
    },
    {
      "cell_type": "code",
      "source": [
        "s = \"abcdefg\"\n",
        "k = 2\n",
        "print(reverseStr(s, k))\n",
        "\n",
        "s = \"abcdefgh\"\n",
        "k = 3\n",
        "print(reverseStr(s, k))\n"
      ],
      "metadata": {
        "colab": {
          "base_uri": "https://localhost:8080/"
        },
        "id": "99K69bhq4fYL",
        "outputId": "a46f4832-017d-4bc3-9dc6-f90730028540"
      },
      "execution_count": 21,
      "outputs": [
        {
          "output_type": "stream",
          "name": "stdout",
          "text": [
            "bacdfeg\n",
            "cbadefhg\n"
          ]
        }
      ]
    },
    {
      "cell_type": "code",
      "source": [
        "#Question 6\n",
        "def rotateString(s, goal):\n",
        "    if len(s) != len(goal):\n",
        "        return False\n",
        "\n",
        "    s_double = s + s\n",
        "\n",
        "    if goal in s_double:\n",
        "        return True\n",
        "    else:\n",
        "        return False\n"
      ],
      "metadata": {
        "id": "fg9tUidR4o3g"
      },
      "execution_count": 22,
      "outputs": []
    },
    {
      "cell_type": "code",
      "source": [
        "s = \"abcde\"\n",
        "goal = \"cdeab\"\n",
        "print(rotateString(s, goal))\n",
        "\n",
        "\n"
      ],
      "metadata": {
        "colab": {
          "base_uri": "https://localhost:8080/"
        },
        "id": "sKC7WCzd44z7",
        "outputId": "18bb1b5b-52b6-4ab6-b6f4-5da3ebcd171d"
      },
      "execution_count": 25,
      "outputs": [
        {
          "output_type": "stream",
          "name": "stdout",
          "text": [
            "True\n"
          ]
        }
      ]
    },
    {
      "cell_type": "code",
      "source": [
        "#Question 7\n",
        "def processString(string):\n",
        "    stack = []\n",
        "\n",
        "    for char in string:\n",
        "        if char == '#':\n",
        "            if stack:\n",
        "                stack.pop()\n",
        "        else:\n",
        "            stack.append(char)\n",
        "\n",
        "    return ''.join(stack)\n",
        "\n",
        "\n",
        "def backspaceCompare(s, t):\n",
        "    processed_s = processString(s)\n",
        "    processed_t = processString(t)\n",
        "\n",
        "    return processed_s == processed_t\n"
      ],
      "metadata": {
        "id": "nTH69kK448Uy"
      },
      "execution_count": 26,
      "outputs": []
    },
    {
      "cell_type": "code",
      "source": [
        "s = \"ab#c\"\n",
        "t = \"ad#c\"\n",
        "print(backspaceCompare(s, t))\n"
      ],
      "metadata": {
        "colab": {
          "base_uri": "https://localhost:8080/"
        },
        "id": "8aZsu65M5Sn_",
        "outputId": "2487104e-cd3a-4d03-e6e9-701f18261eaa"
      },
      "execution_count": 27,
      "outputs": [
        {
          "output_type": "stream",
          "name": "stdout",
          "text": [
            "True\n"
          ]
        }
      ]
    },
    {
      "cell_type": "code",
      "source": [
        "#Question 8\n",
        "def checkStraightLine(coordinates):\n",
        "    if len(coordinates) <= 2:\n",
        "        return True\n",
        "\n",
        "    x1, y1 = coordinates[0]\n",
        "    x2, y2 = coordinates[1]\n",
        "\n",
        "    for i in range(2, len(coordinates)):\n",
        "        x, y = coordinates[i]\n",
        "        if (y - y1) * (x2 - x1) != (y2 - y1) * (x - x1):\n",
        "            return False\n",
        "\n",
        "    return True\n"
      ],
      "metadata": {
        "id": "yK_bzixk5avr"
      },
      "execution_count": 28,
      "outputs": []
    },
    {
      "cell_type": "code",
      "source": [
        "coordinates = [[1,2],[2,3],[3,4],[4,5],[5,6],[6,7]]\n",
        "print(checkStraightLine(coordinates))\n",
        "\n",
        "\n"
      ],
      "metadata": {
        "colab": {
          "base_uri": "https://localhost:8080/"
        },
        "id": "JO0FAPon5o8u",
        "outputId": "c26666ba-9548-438e-ae56-78bc03827c7c"
      },
      "execution_count": 30,
      "outputs": [
        {
          "output_type": "stream",
          "name": "stdout",
          "text": [
            "True\n"
          ]
        }
      ]
    },
    {
      "cell_type": "code",
      "source": [],
      "metadata": {
        "id": "zGInd7wu58yy"
      },
      "execution_count": null,
      "outputs": []
    }
  ]
}